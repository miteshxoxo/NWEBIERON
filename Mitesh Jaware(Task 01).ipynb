{
 "cells": [
  {
   "cell_type": "code",
   "execution_count": 7,
   "id": "cd1d2e7b",
   "metadata": {},
   "outputs": [
    {
     "name": "stdout",
     "output_type": "stream",
     "text": [
      "virat.image\n"
     ]
    },
    {
     "data": {
      "text/plain": [
       "True"
      ]
     },
     "execution_count": 7,
     "metadata": {},
     "output_type": "execute_result"
    }
   ],
   "source": [
    "import requests \n",
    "from bs4 import BeautifulSoup\n",
    "import re \n",
    "import pandas as pd\n",
    "from selenium import webdriver\n",
    "from selenium.webdriver.chrome.service import Service\n",
    "import time\n",
    "from selenium.webdriver.common.keys import Keys \n",
    "\n",
    "s = Service(\"C:/Users/ASUS/Downloads/chromedriver_win32/chromedriver.exe\")\n",
    "driver = webdriver.Chrome(service= s)\n",
    "driver.get(\"https://www.google.com/\")\n",
    "a = input(\"\")\n",
    "search = driver.find_element('xpath',\"\"\"//*[@id=\"APjFqb\"]\"\"\")\n",
    "search.send_keys(a)\n",
    "search.send_keys(Keys.ENTER)\n",
    "driver.find_element('xpath',\"\"\"//*[@id=\"rso\"]/div[1]/div/div/div[2]/g-section-with-header/div[4]/g-more-link/a/div\"\"\").click()\n",
    "driver.find_element('xpath', \"\"\"//*[@id=\"islrg\"]/div[1]/div[1]/a[1]/div[1]/img\"\"\").screenshot('C:/Users/ASUS/Desktop/img.png')"
   ]
  },
  {
   "cell_type": "code",
   "execution_count": null,
   "id": "b9c8e71d",
   "metadata": {},
   "outputs": [],
   "source": []
  }
 ],
 "metadata": {
  "kernelspec": {
   "display_name": "Python 3 (ipykernel)",
   "language": "python",
   "name": "python3"
  },
  "language_info": {
   "codemirror_mode": {
    "name": "ipython",
    "version": 3
   },
   "file_extension": ".py",
   "mimetype": "text/x-python",
   "name": "python",
   "nbconvert_exporter": "python",
   "pygments_lexer": "ipython3",
   "version": "3.10.9"
  }
 },
 "nbformat": 4,
 "nbformat_minor": 5
}
